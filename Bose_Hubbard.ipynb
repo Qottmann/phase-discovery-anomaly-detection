{
 "cells": [
  {
   "cell_type": "markdown",
   "metadata": {},
   "source": [
    "prerequisites:  \n",
    "tenpy: https://tenpy.github.io/INSTALL.html  \n",
    "tensorflow: https://www.tensorflow.org/install  "
   ]
  },
  {
   "cell_type": "code",
   "execution_count": 1,
   "metadata": {
    "ExecuteTime": {
     "end_time": "2020-01-23T21:09:14.363094Z",
     "start_time": "2020-01-23T21:09:10.012337Z"
    }
   },
   "outputs": [
    {
     "name": "stderr",
     "output_type": "stream",
     "text": [
      "/export/anaconda3/envs/QC/lib/python3.7/site-packages/tensorflow/python/framework/dtypes.py:526: FutureWarning: Passing (type, 1) or '1type' as a synonym of type is deprecated; in a future version of numpy, it will be understood as (type, (1,)) / '(1,)type'.\n",
      "  _np_qint8 = np.dtype([(\"qint8\", np.int8, 1)])\n",
      "/export/anaconda3/envs/QC/lib/python3.7/site-packages/tensorflow/python/framework/dtypes.py:527: FutureWarning: Passing (type, 1) or '1type' as a synonym of type is deprecated; in a future version of numpy, it will be understood as (type, (1,)) / '(1,)type'.\n",
      "  _np_quint8 = np.dtype([(\"quint8\", np.uint8, 1)])\n",
      "/export/anaconda3/envs/QC/lib/python3.7/site-packages/tensorflow/python/framework/dtypes.py:528: FutureWarning: Passing (type, 1) or '1type' as a synonym of type is deprecated; in a future version of numpy, it will be understood as (type, (1,)) / '(1,)type'.\n",
      "  _np_qint16 = np.dtype([(\"qint16\", np.int16, 1)])\n",
      "/export/anaconda3/envs/QC/lib/python3.7/site-packages/tensorflow/python/framework/dtypes.py:529: FutureWarning: Passing (type, 1) or '1type' as a synonym of type is deprecated; in a future version of numpy, it will be understood as (type, (1,)) / '(1,)type'.\n",
      "  _np_quint16 = np.dtype([(\"quint16\", np.uint16, 1)])\n",
      "/export/anaconda3/envs/QC/lib/python3.7/site-packages/tensorflow/python/framework/dtypes.py:530: FutureWarning: Passing (type, 1) or '1type' as a synonym of type is deprecated; in a future version of numpy, it will be understood as (type, (1,)) / '(1,)type'.\n",
      "  _np_qint32 = np.dtype([(\"qint32\", np.int32, 1)])\n",
      "/export/anaconda3/envs/QC/lib/python3.7/site-packages/tensorflow/python/framework/dtypes.py:535: FutureWarning: Passing (type, 1) or '1type' as a synonym of type is deprecated; in a future version of numpy, it will be understood as (type, (1,)) / '(1,)type'.\n",
      "  np_resource = np.dtype([(\"resource\", np.ubyte, 1)])\n"
     ]
    }
   ],
   "source": [
    "from AD_tools import *\n",
    "import numpy as np\n",
    "from matplotlib import pyplot as plt\n",
    "from matplotlib.ticker import MaxNLocator\n",
    "from matplotlib.colors import BoundaryNorm\n",
    "import tensorflow as tf\n",
    "from tensorflow.keras.models import Sequential,Model\n",
    "from tensorflow.keras.layers import Input,Dense,Conv2D,Conv1D,MaxPooling2D,MaxPooling1D,UpSampling2D,UpSampling1D,Flatten, Activation, BatchNormalization, GlobalAveragePooling2D,add"
   ]
  },
  {
   "cell_type": "code",
   "execution_count": 2,
   "metadata": {
    "ExecuteTime": {
     "end_time": "2020-01-23T21:09:14.394227Z",
     "start_time": "2020-01-23T21:09:14.387107Z"
    }
   },
   "outputs": [
    {
     "data": {
      "text/plain": [
       "'1.13.1'"
      ]
     },
     "execution_count": 2,
     "metadata": {},
     "output_type": "execute_result"
    }
   ],
   "source": [
    "tf.__version__"
   ]
  },
  {
   "cell_type": "code",
   "execution_count": 3,
   "metadata": {
    "ExecuteTime": {
     "end_time": "2020-01-23T21:09:14.428593Z",
     "start_time": "2020-01-23T21:09:14.414414Z"
    }
   },
   "outputs": [
    {
     "data": {
      "text/plain": [
       "'0.5.0'"
      ]
     },
     "execution_count": 3,
     "metadata": {},
     "output_type": "execute_result"
    }
   ],
   "source": [
    "import tenpy\n",
    "tenpy.__version__"
   ]
  },
  {
   "cell_type": "markdown",
   "metadata": {},
   "source": [
    "# Create data\n",
    "Preferably run on a cluster / external session"
   ]
  },
  {
   "cell_type": "code",
   "execution_count": 4,
   "metadata": {
    "ExecuteTime": {
     "end_time": "2020-01-23T21:09:15.677648Z",
     "start_time": "2020-01-23T21:09:15.673730Z"
    }
   },
   "outputs": [],
   "source": [
    "Vs = np.linspace(0,5,100)"
   ]
  },
  {
   "cell_type": "code",
   "execution_count": 5,
   "metadata": {
    "ExecuteTime": {
     "end_time": "2020-01-23T21:16:27.860993Z",
     "start_time": "2020-01-23T21:11:46.084687Z"
    }
   },
   "outputs": [
    {
     "name": "stdout",
     "output_type": "stream",
     "text": [
      "Initial sweeps...\n",
      "E = -6.0694700912326\n",
      "0:00:34.475932\n",
      "Initial sweeps...\n",
      "E = -5.7045767476760\n",
      "0:00:37.621923\n",
      "Initial sweeps...\n",
      "E = -5.3401870730464\n",
      "0:00:37.851126\n",
      "Initial sweeps...\n",
      "E = -4.9763110539437\n",
      "0:00:37.205504\n",
      "Initial sweeps...\n",
      "E = -4.6129590787029\n",
      "0:00:37.554460\n",
      "Initial sweeps...\n",
      "E = -4.2501419539892\n",
      "0:00:37.405192\n",
      "Initial sweeps...\n",
      "E = -3.8878709262272\n",
      "0:00:37.673483\n",
      "Initial sweeps...\n",
      "E = -3.5261577021729\n",
      "0:00:37.840000\n",
      "Initial sweeps...\n",
      "E = -3.1650144742022\n",
      "0:00:38.088353\n",
      "Initial sweeps...\n",
      "E = -2.8044539413091\n",
      "0:00:37.839484\n",
      "Initial sweeps...\n",
      "E = -2.4444893382511\n",
      "0:00:37.959309\n",
      "Initial sweeps...\n",
      "E = -2.0851344637237\n",
      "0:00:38.315691\n",
      "Initial sweeps...\n",
      "E = -1.7264037111817\n",
      "0:00:38.000469\n",
      "Initial sweeps...\n",
      "E = -1.3683121028578\n",
      "0:00:38.411420\n",
      "Initial sweeps...\n",
      "E = -1.0108753225437\n",
      "0:00:38.430523\n",
      "Initial sweeps...\n",
      "E = -0.6541097568645\n",
      "0:00:38.827047\n",
      "Initial sweeps...\n",
      "E = -0.2980325352883\n",
      "0:00:39.492909\n",
      "Initial sweeps...\n",
      "E = 0.0573384251874\n",
      "0:00:38.910516\n",
      "Initial sweeps...\n",
      "E = 0.4119843720527\n",
      "0:00:39.855499\n",
      "Initial sweeps...\n",
      "E = 0.7658856693623\n",
      "0:00:37.762056\n",
      "Initial sweeps...\n",
      "E = 1.1190217260989\n",
      "0:00:35.179285\n",
      "Initial sweeps...\n",
      "E = 1.4713709553556\n",
      "0:00:35.293258\n",
      "Initial sweeps...\n",
      "E = 1.8229107016486\n",
      "0:00:35.593302\n",
      "Initial sweeps...\n",
      "E = 2.1736171662276\n",
      "0:00:34.995346\n",
      "Initial sweeps...\n",
      "E = 2.5234653316776\n",
      "0:00:35.004444\n",
      "Initial sweeps...\n",
      "E = 2.8724288778859\n",
      "0:00:35.015555\n",
      "Initial sweeps...\n",
      "E = 3.2204800904312\n",
      "0:00:35.154190\n",
      "Initial sweeps...\n",
      "E = 3.5675897606866\n",
      "0:00:34.746841\n",
      "Initial sweeps...\n",
      "E = 3.9137270789963\n",
      "0:00:35.704218\n",
      "Initial sweeps...\n",
      "E = 4.2588595033188\n",
      "0:00:35.513564\n",
      "Initial sweeps...\n",
      "E = 4.6029526503319\n",
      "0:00:34.755173\n",
      "Initial sweeps...\n",
      "E = 4.9459701347927\n",
      "0:00:34.784427\n",
      "Initial sweeps...\n",
      "E = 5.2878734163018\n",
      "0:00:34.565569\n",
      "Initial sweeps...\n",
      "E = 5.6286216250363\n",
      "0:00:35.539459\n",
      "Initial sweeps...\n",
      "E = 5.9681713691372\n",
      "0:00:35.169126\n",
      "Initial sweeps...\n",
      "E = 6.3064765262177\n",
      "0:00:35.392163\n",
      "Initial sweeps...\n",
      "E = 6.6434879790931\n",
      "0:00:35.981783\n",
      "Initial sweeps...\n",
      "E = 6.9791534068839\n",
      "0:00:36.287465\n",
      "Initial sweeps...\n",
      "E = 7.3134169454724\n",
      "0:00:35.904424\n",
      "Initial sweeps...\n",
      "E = 7.6462188706989\n",
      "0:00:35.553029\n",
      "Initial sweeps...\n",
      "E = 7.9774952272915\n",
      "0:00:35.598280\n",
      "Initial sweeps...\n",
      "E = 8.3071774100441\n",
      "0:00:35.315713\n",
      "Initial sweeps...\n",
      "E = 8.6351916891429\n",
      "0:00:35.623402\n",
      "Initial sweeps...\n",
      "E = 8.9614586697557\n",
      "0:00:35.429244\n",
      "Initial sweeps...\n",
      "E = 9.2858926737046\n",
      "0:00:35.423358\n",
      "Initial sweeps...\n",
      "E = 9.6084010280864\n",
      "0:00:35.211367\n",
      "Initial sweeps...\n",
      "E = 9.9288832417793\n",
      "0:00:45.870729\n",
      "Initial sweeps...\n",
      "E = 10.2472300457704\n",
      "0:00:45.543036\n",
      "Initial sweeps...\n",
      "E = 10.5633222656905\n",
      "0:00:46.919503\n",
      "Initial sweeps...\n",
      "E = 10.8770294853768\n",
      "0:00:45.364529\n",
      "Initial sweeps...\n",
      "E = 11.1882084454388\n",
      "0:00:46.208655\n",
      "Initial sweeps...\n",
      "E = 11.4967011006182\n",
      "0:00:45.587084\n",
      "Initial sweeps...\n",
      "E = 11.8023318090155\n",
      "0:00:45.840069\n",
      "Initial sweeps...\n",
      "E = 12.1049056780509\n",
      "0:00:46.714058\n",
      "Initial sweeps...\n",
      "E = 12.4042056044397\n",
      "0:00:47.029159\n",
      "Initial sweeps...\n",
      "E = 12.6999778810123\n",
      "0:00:46.847452\n",
      "Initial sweeps...\n",
      "E = 12.9919399282032\n",
      "0:00:46.833720\n",
      "Initial sweeps...\n",
      "E = 13.2797607468738\n",
      "0:00:58.369606\n",
      "Initial sweeps...\n",
      "E = 13.5630521802472\n",
      "0:01:01.791726\n",
      "Initial sweeps...\n"
     ]
    },
    {
     "name": "stderr",
     "output_type": "stream",
     "text": [
      "/export/anaconda3/envs/QC/lib/python3.7/site-packages/tenpy/algorithms/dmrg.py:439: UserWarning: final DMRG state not in canonical form within `norm_tol` = 1.00e-05\n",
      "  warnings.warn(msg.format(nt=norm_tol))\n"
     ]
    },
    {
     "name": "stdout",
     "output_type": "stream",
     "text": [
      "E = 13.8414568496390\n",
      "0:01:02.377193\n",
      "Initial sweeps...\n"
     ]
    },
    {
     "name": "stderr",
     "output_type": "stream",
     "text": [
      "/export/anaconda3/envs/QC/lib/python3.7/site-packages/tenpy/algorithms/dmrg.py:439: UserWarning: final DMRG state not in canonical form within `norm_tol` = 1.00e-05\n",
      "  warnings.warn(msg.format(nt=norm_tol))\n"
     ]
    },
    {
     "name": "stdout",
     "output_type": "stream",
     "text": [
      "E = 14.1141439818695\n",
      "0:04:30.892020\n",
      "Initial sweeps...\n",
      "E = 14.3803194854456\n",
      "0:01:46.884816\n",
      "Initial sweeps...\n",
      "E = 14.6396359668920\n",
      "0:01:15.853833\n",
      "Initial sweeps...\n",
      "E = 14.8916018687893\n",
      "0:01:00.005118\n",
      "Initial sweeps...\n",
      "E = 15.1355689532774\n",
      "0:00:44.346408\n",
      "Initial sweeps...\n",
      "E = 15.3708079693096\n",
      "0:00:43.586511\n",
      "Initial sweeps...\n",
      "E = 15.5964847893283\n",
      "0:00:44.375457\n",
      "Initial sweeps...\n",
      "E = 15.8116041591080\n",
      "0:00:43.293440\n",
      "Initial sweeps...\n",
      "E = 16.0149094895726\n",
      "0:00:43.148042\n",
      "Initial sweeps...\n",
      "E = 16.2046641902431\n",
      "0:00:43.923758\n",
      "Initial sweeps...\n"
     ]
    },
    {
     "name": "stderr",
     "output_type": "stream",
     "text": [
      "/export/anaconda3/envs/QC/lib/python3.7/site-packages/tenpy/algorithms/dmrg.py:439: UserWarning: final DMRG state not in canonical form within `norm_tol` = 1.00e-05\n",
      "  warnings.warn(msg.format(nt=norm_tol))\n"
     ]
    },
    {
     "name": "stdout",
     "output_type": "stream",
     "text": [
      "E = 16.3779765275218\n",
      "0:01:30.226278\n",
      "Initial sweeps...\n",
      "E = 16.5276995780174\n",
      "0:00:44.043351\n",
      "Initial sweeps...\n",
      "E = 16.6584050291836\n",
      "0:00:33.302620\n",
      "Initial sweeps...\n",
      "E = 16.7762915749048\n",
      "0:00:33.535399\n",
      "Initial sweeps...\n",
      "E = 16.8840396524024\n",
      "0:00:32.656205\n",
      "Initial sweeps...\n",
      "E = 16.9833615341109\n",
      "0:00:31.425643\n",
      "Initial sweeps...\n",
      "E = 17.0754849104977\n",
      "0:00:30.946087\n",
      "Initial sweeps...\n",
      "E = 17.1613458581636\n",
      "0:00:30.849293\n",
      "Initial sweeps...\n",
      "E = 17.2416866916748\n",
      "0:00:30.438407\n",
      "Initial sweeps...\n",
      "E = 17.3171125327822\n",
      "0:00:30.125962\n",
      "Initial sweeps...\n",
      "E = 17.3881269109902\n",
      "0:00:29.222887\n",
      "Initial sweeps...\n",
      "E = 17.4551555719907\n",
      "0:00:28.585969\n",
      "Initial sweeps...\n",
      "E = 17.5185631397365\n",
      "0:00:26.986609\n",
      "Initial sweeps...\n",
      "E = 17.5786652018354\n",
      "0:00:26.606510\n",
      "Initial sweeps...\n",
      "E = 17.6357373309060\n",
      "0:00:25.328577\n",
      "Initial sweeps...\n",
      "E = 17.6900219795173\n",
      "0:00:24.553684\n",
      "Initial sweeps...\n",
      "E = 17.7417338558647\n",
      "0:00:23.425376\n",
      "Initial sweeps...\n",
      "E = 17.7910641857573\n",
      "0:00:22.618228\n",
      "Initial sweeps...\n",
      "E = 17.8381841410737\n",
      "0:00:21.871099\n",
      "Initial sweeps...\n",
      "E = 17.8832476326119\n",
      "0:00:21.473610\n",
      "Initial sweeps...\n",
      "E = 17.9263936104192\n",
      "0:00:21.211063\n",
      "Initial sweeps...\n",
      "E = 17.9677479770330\n",
      "0:00:20.608504\n",
      "Initial sweeps...\n",
      "E = 18.0074251926463\n",
      "0:00:20.218021\n",
      "Initial sweeps...\n",
      "E = 18.0455296323216\n",
      "0:00:20.259730\n",
      "Initial sweeps...\n",
      "E = 18.0821567416232\n",
      "0:00:20.262705\n",
      "Initial sweeps...\n",
      "E = 18.1173940268716\n",
      "0:00:20.137177\n",
      "Initial sweeps...\n",
      "E = 18.1513219086040\n",
      "0:00:19.776233\n",
      "Initial sweeps...\n",
      "E = 18.1840144610205\n",
      "0:00:18.996105\n",
      "Initial sweeps...\n",
      "E = 18.2155400557695\n",
      "0:00:18.962705\n",
      "Initial sweeps...\n",
      "E = 18.2459619249455\n",
      "0:00:18.911395\n"
     ]
    }
   ],
   "source": [
    "datas = []\n",
    "for V in Vs:\n",
    "    datas.append(hubbard_dmrg(L=8,U=5.,V=V,chi_max=64,bc=\"infinite\"))\n",
    "datas = np.array(datas)"
   ]
  },
  {
   "cell_type": "code",
   "execution_count": 6,
   "metadata": {
    "ExecuteTime": {
     "end_time": "2020-01-23T21:16:41.955207Z",
     "start_time": "2020-01-23T21:16:41.680307Z"
    }
   },
   "outputs": [
    {
     "data": {
      "text/plain": [
       "[<matplotlib.lines.Line2D at 0x7f54ebbc5ba8>,\n",
       " <matplotlib.lines.Line2D at 0x7f54ebd2d8d0>,\n",
       " <matplotlib.lines.Line2D at 0x7f54ebd2deb8>,\n",
       " <matplotlib.lines.Line2D at 0x7f54ebb08dd8>,\n",
       " <matplotlib.lines.Line2D at 0x7f54ebb08908>,\n",
       " <matplotlib.lines.Line2D at 0x7f54ebb082e8>,\n",
       " <matplotlib.lines.Line2D at 0x7f54ebb08198>,\n",
       " <matplotlib.lines.Line2D at 0x7f54ebb08518>]"
      ]
     },
     "execution_count": 6,
     "metadata": {},
     "output_type": "execute_result"
    },
    {
     "data": {
      "image/png": "[encoded data removed]",
      "text/plain": [
       "<Figure size 576x360 with 1 Axes>"
      ]
     },
     "metadata": {
      "needs_background": "light"
     },
     "output_type": "display_data"
    }
   ],
   "source": [
    "ent = np.array([psi.entanglement_entropy() for psi in datas[:,0]])\n",
    "fig,ax = plt.subplots(figsize=(8,5))\n",
    "ax.plot(Vs,ent)"
   ]
  },
  {
   "cell_type": "code",
   "execution_count": 7,
   "metadata": {
    "ExecuteTime": {
     "end_time": "2020-01-23T21:17:07.149431Z",
     "start_time": "2020-01-23T21:17:07.137651Z"
    }
   },
   "outputs": [
    {
     "data": {
      "text/plain": [
       "(100, 64, 1)"
      ]
     },
     "execution_count": 7,
     "metadata": {},
     "output_type": "execute_result"
    }
   ],
   "source": [
    "x_test = np.array([psi.entanglement_spectrum(by_charge=False)[int(psi.L/2)-1] for psi in datas[:,0]])\n",
    "x_test = np.sqrt(np.exp(-1*x_test)) # Go from entanglement_spectrum to singular values l_v^2 = exp(-s_v)\n",
    "x_test = x_test.reshape(*x_test.shape,1) # Need extra \"color\" channel (though trivial) for tensorflow later\n",
    "x_test.shape"
   ]
  },
  {
   "cell_type": "markdown",
   "metadata": {},
   "source": [
    "# Define CNN"
   ]
  },
  {
   "cell_type": "code",
   "execution_count": 8,
   "metadata": {
    "ExecuteTime": {
     "end_time": "2020-01-23T21:17:10.164563Z",
     "start_time": "2020-01-23T21:17:10.154149Z"
    }
   },
   "outputs": [],
   "source": [
    "def scc_cnn1D(loss,optimizer,activation0,activation,x_shape):\n",
    "    in_dim = x_shape\n",
    "    input_img = Input(shape=in_dim)\n",
    "   \n",
    "    x1 = Conv1D(64, 3, activation=activation0, padding='same')(input_img) # 100 100 64\n",
    "    x2 = MaxPooling1D(2, padding='same')(x1) # 50 50 64\n",
    "    x2 = Conv1D(64, 3, activation=activation0, padding='same')(x2) # 50 50 128\n",
    "    x3 = MaxPooling1D(2, padding='same')(x2) # 25 25 128\n",
    "    encoded = Conv1D(64, 3, activation=activation0, padding='same')(x3) # 25 25 128\n",
    "\n",
    "    y=UpSampling1D(2)(encoded) # 50 50 128\n",
    "    y=add([x2,y]) # 50 50 128\n",
    "    y=Conv1D(64, 3, activation=activation0, padding='same')(y) # 50 50 128\n",
    "    y=UpSampling1D(2)(y) # 100 100 128\n",
    "    y=add([x1,y]) # 100 100 128\n",
    "    decoded = Conv1D(x_shape[-1], 3, activation=activation, padding='same')(y) # 100 100 4\n",
    "\n",
    "    cnn = Model(input_img, decoded)\n",
    "\n",
    "    cnn.compile(loss=loss,optimizer=optimizer)#,metrics=['accuracy']) #adadelta\n",
    "    return cnn"
   ]
  },
  {
   "cell_type": "code",
   "execution_count": 9,
   "metadata": {
    "ExecuteTime": {
     "end_time": "2020-01-23T21:17:13.101167Z",
     "start_time": "2020-01-23T21:17:12.679784Z"
    }
   },
   "outputs": [
    {
     "name": "stdout",
     "output_type": "stream",
     "text": [
      "WARNING:tensorflow:From /export/anaconda3/envs/QC/lib/python3.7/site-packages/tensorflow/python/ops/resource_variable_ops.py:435: colocate_with (from tensorflow.python.framework.ops) is deprecated and will be removed in a future version.\n",
      "Instructions for updating:\n",
      "Colocations handled automatically by placer.\n",
      "WARNING:tensorflow:From /export/anaconda3/envs/QC/lib/python3.7/site-packages/tensorflow/python/keras/utils/losses_utils.py:170: to_float (from tensorflow.python.ops.math_ops) is deprecated and will be removed in a future version.\n",
      "Instructions for updating:\n",
      "Use tf.cast instead.\n",
      "__________________________________________________________________________________________________\n",
      "Layer (type)                    Output Shape         Param #     Connected to                     \n",
      "==================================================================================================\n",
      "input_1 (InputLayer)            (None, 48, 1)        0                                            \n",
      "__________________________________________________________________________________________________\n",
      "conv1d (Conv1D)                 (None, 48, 64)       256         input_1[0][0]                    \n",
      "__________________________________________________________________________________________________\n",
      "max_pooling1d (MaxPooling1D)    (None, 24, 64)       0           conv1d[0][0]                     \n",
      "__________________________________________________________________________________________________\n",
      "conv1d_1 (Conv1D)               (None, 24, 64)       12352       max_pooling1d[0][0]              \n",
      "__________________________________________________________________________________________________\n",
      "max_pooling1d_1 (MaxPooling1D)  (None, 12, 64)       0           conv1d_1[0][0]                   \n",
      "__________________________________________________________________________________________________\n",
      "conv1d_2 (Conv1D)               (None, 12, 64)       12352       max_pooling1d_1[0][0]            \n",
      "__________________________________________________________________________________________________\n",
      "up_sampling1d (UpSampling1D)    (None, 24, 64)       0           conv1d_2[0][0]                   \n",
      "__________________________________________________________________________________________________\n",
      "add (Add)                       (None, 24, 64)       0           conv1d_1[0][0]                   \n",
      "                                                                 up_sampling1d[0][0]              \n",
      "__________________________________________________________________________________________________\n",
      "conv1d_3 (Conv1D)               (None, 24, 64)       12352       add[0][0]                        \n",
      "__________________________________________________________________________________________________\n",
      "up_sampling1d_1 (UpSampling1D)  (None, 48, 64)       0           conv1d_3[0][0]                   \n",
      "__________________________________________________________________________________________________\n",
      "add_1 (Add)                     (None, 48, 64)       0           conv1d[0][0]                     \n",
      "                                                                 up_sampling1d_1[0][0]            \n",
      "__________________________________________________________________________________________________\n",
      "conv1d_4 (Conv1D)               (None, 48, 1)        193         add_1[0][0]                      \n",
      "==================================================================================================\n",
      "Total params: 37,505\n",
      "Trainable params: 37,505\n",
      "Non-trainable params: 0\n",
      "__________________________________________________________________________________________________\n"
     ]
    }
   ],
   "source": [
    "cnn = scc_cnn1D(\"mse\",\"adam\",\"relu\",\"relu\",(48,1,))\n",
    "cnn.summary()"
   ]
  },
  {
   "cell_type": "markdown",
   "metadata": {},
   "source": [
    "# Training\n",
    "pick data points from test set for training"
   ]
  },
  {
   "cell_type": "code",
   "execution_count": 10,
   "metadata": {
    "ExecuteTime": {
     "end_time": "2020-01-23T21:17:17.228217Z",
     "start_time": "2020-01-23T21:17:17.224375Z"
    }
   },
   "outputs": [],
   "source": [
    "Vs_train = Vs[np.where(Vs<2)]"
   ]
  },
  {
   "cell_type": "code",
   "execution_count": 11,
   "metadata": {
    "ExecuteTime": {
     "end_time": "2020-01-23T21:17:17.987837Z",
     "start_time": "2020-01-23T21:17:17.972312Z"
    }
   },
   "outputs": [
    {
     "data": {
      "text/plain": [
       "(40, 64, 1)"
      ]
     },
     "execution_count": 11,
     "metadata": {},
     "output_type": "execute_result"
    }
   ],
   "source": [
    "x_train = x_test[np.where(Vs<2)]\n",
    "x_train.shape"
   ]
  },
  {
   "cell_type": "code",
   "execution_count": 12,
   "metadata": {
    "ExecuteTime": {
     "end_time": "2020-01-23T21:17:32.798654Z",
     "start_time": "2020-01-23T21:17:32.794419Z"
    }
   },
   "outputs": [],
   "source": [
    "def train_loss2(y_true,y_pred):\n",
    "    return tf.keras.backend.sqrt(tf.keras.backend.sum((y_true - y_pred)**2))"
   ]
  },
  {
   "cell_type": "code",
   "execution_count": 13,
   "metadata": {
    "ExecuteTime": {
     "end_time": "2020-01-23T21:17:38.783156Z",
     "start_time": "2020-01-23T21:17:38.766985Z"
    }
   },
   "outputs": [
    {
     "name": "stdout",
     "output_type": "stream",
     "text": [
      "Train on 40 samples, validate on 40 samples\n",
      "Epoch 1/40\n",
      "40/40 [==============================] - 1s 19ms/sample - loss: 4.4280 - val_loss: 3.7862\n",
      "Epoch 2/40\n",
      "40/40 [==============================] - 0s 2ms/sample - loss: 3.6686 - val_loss: 3.1398\n",
      "Epoch 3/40\n",
      "40/40 [==============================] - 0s 1ms/sample - loss: 3.0370 - val_loss: 2.5701\n",
      "Epoch 4/40\n",
      "40/40 [==============================] - 0s 1ms/sample - loss: 2.4771 - val_loss: 2.0722\n",
      "Epoch 5/40\n",
      "40/40 [==============================] - 0s 1ms/sample - loss: 2.0018 - val_loss: 1.6990\n",
      "Epoch 6/40\n",
      "40/40 [==============================] - 0s 1ms/sample - loss: 1.6550 - val_loss: 1.4503\n",
      "Epoch 7/40\n",
      "40/40 [==============================] - 0s 1ms/sample - loss: 1.4179 - val_loss: 1.2901\n",
      "Epoch 8/40\n",
      "40/40 [==============================] - 0s 1ms/sample - loss: 1.2580 - val_loss: 1.1077\n",
      "Epoch 9/40\n",
      "40/40 [==============================] - 0s 1ms/sample - loss: 1.0732 - val_loss: 0.9224\n",
      "Epoch 10/40\n",
      "40/40 [==============================] - 0s 1ms/sample - loss: 0.9013 - val_loss: 0.8230\n",
      "Epoch 11/40\n",
      "40/40 [==============================] - 0s 1ms/sample - loss: 0.8095 - val_loss: 0.7504\n",
      "Epoch 12/40\n",
      "40/40 [==============================] - 0s 1ms/sample - loss: 0.7266 - val_loss: 0.6220\n",
      "Epoch 13/40\n",
      "40/40 [==============================] - 0s 1ms/sample - loss: 0.5944 - val_loss: 0.5114\n",
      "Epoch 14/40\n",
      "40/40 [==============================] - 0s 1ms/sample - loss: 0.5047 - val_loss: 0.4753\n",
      "Epoch 15/40\n",
      "40/40 [==============================] - 0s 1ms/sample - loss: 0.4686 - val_loss: 0.4139\n",
      "Epoch 16/40\n",
      "40/40 [==============================] - 0s 1ms/sample - loss: 0.4137 - val_loss: 0.3798\n",
      "Epoch 17/40\n",
      "40/40 [==============================] - 0s 988us/sample - loss: 0.3699 - val_loss: 0.3322\n",
      "Epoch 18/40\n",
      "40/40 [==============================] - 0s 1ms/sample - loss: 0.3343 - val_loss: 0.2802\n",
      "Epoch 19/40\n",
      "40/40 [==============================] - 0s 1ms/sample - loss: 0.2718 - val_loss: 0.2865\n",
      "Epoch 20/40\n",
      "40/40 [==============================] - 0s 1ms/sample - loss: 0.2884 - val_loss: 0.2386\n",
      "Epoch 21/40\n",
      "40/40 [==============================] - 0s 992us/sample - loss: 0.2504 - val_loss: 0.2376\n",
      "Epoch 22/40\n",
      "40/40 [==============================] - 0s 982us/sample - loss: 0.2237 - val_loss: 0.1935\n",
      "Epoch 23/40\n",
      "40/40 [==============================] - 0s 1ms/sample - loss: 0.2112 - val_loss: 0.1893\n",
      "Epoch 24/40\n",
      "40/40 [==============================] - 0s 1ms/sample - loss: 0.1847 - val_loss: 0.1804\n",
      "Epoch 25/40\n",
      "40/40 [==============================] - 0s 1ms/sample - loss: 0.1843 - val_loss: 0.1429\n",
      "Epoch 26/40\n",
      "40/40 [==============================] - 0s 1ms/sample - loss: 0.1381 - val_loss: 0.1870\n",
      "Epoch 27/40\n",
      "40/40 [==============================] - 0s 999us/sample - loss: 0.1969 - val_loss: 0.1272\n",
      "Epoch 28/40\n",
      "40/40 [==============================] - 0s 1ms/sample - loss: 0.1815 - val_loss: 0.1672\n",
      "Epoch 29/40\n",
      "40/40 [==============================] - 0s 1ms/sample - loss: 0.2398 - val_loss: 0.4108\n",
      "Epoch 30/40\n",
      "40/40 [==============================] - 0s 998us/sample - loss: 0.3062 - val_loss: 0.3475\n",
      "Epoch 31/40\n",
      "40/40 [==============================] - 0s 1ms/sample - loss: 0.3125 - val_loss: 0.2112\n",
      "Epoch 32/40\n",
      "40/40 [==============================] - 0s 980us/sample - loss: 0.2145 - val_loss: 0.1194\n",
      "Epoch 33/40\n",
      "40/40 [==============================] - 0s 910us/sample - loss: 0.1300 - val_loss: 0.0993\n",
      "Epoch 34/40\n",
      "40/40 [==============================] - 0s 922us/sample - loss: 0.1032 - val_loss: 0.1300\n",
      "Epoch 35/40\n",
      "40/40 [==============================] - 0s 931us/sample - loss: 0.1185 - val_loss: 0.1076\n",
      "Epoch 36/40\n",
      "40/40 [==============================] - 0s 899us/sample - loss: 0.1150 - val_loss: 0.0961\n",
      "Epoch 37/40\n",
      "40/40 [==============================] - 0s 951us/sample - loss: 0.1162 - val_loss: 0.1110\n",
      "Epoch 38/40\n",
      "40/40 [==============================] - 0s 939us/sample - loss: 0.1406 - val_loss: 0.1625\n",
      "Epoch 39/40\n",
      "40/40 [==============================] - 0s 905us/sample - loss: 0.1710 - val_loss: 0.2302\n",
      "Epoch 40/40\n",
      "40/40 [==============================] - 0s 922us/sample - loss: 0.1893 - val_loss: 0.1717\n"
     ]
    },
    {
     "data": {
      "image/png": "[encoded data removed]",
      "text/plain": [
       "<Figure size 432x288 with 1 Axes>"
      ]
     },
     "metadata": {
      "needs_background": "light"
     },
     "output_type": "display_data"
    }
   ],
   "source": [
    "cnn0 = training(x_train, scc_cnn1D, name = \"\", provide_cnn = False,\n",
    "             load_prev = False, num_epochs = 40,  verbose_val = 1, batch_size = 24, shuffle = True, early = False,\n",
    "             loss = train_loss2, activation0 = 'relu', activation = 'tanh', optimizer = \"adam\")"
   ]
  },
  {
   "cell_type": "markdown",
   "metadata": {},
   "source": [
    "**Expected Output:**\n",
    "\n",
    "The Output should look similar to this\n",
    "\n",
    "<img src=\"Images/Learning_curve.png\">"
   ]
  },
  {
   "cell_type": "code",
   "execution_count": 14,
   "metadata": {},
   "outputs": [],
   "source": [
    "xi = np.array([psi.correlation_length() for psi in datas[:,0]])"
   ]
  },
  {
   "cell_type": "code",
   "execution_count": 15,
   "metadata": {},
   "outputs": [
    {
     "data": {
      "text/plain": [
       "<matplotlib.legend.Legend at 0x7f54e831c438>"
      ]
     },
     "execution_count": 15,
     "metadata": {},
     "output_type": "execute_result"
    },
    {
     "data": {
      "image/png": "[encoded data removed]",
      "text/plain": [
       "<Figure size 576x360 with 1 Axes>"
      ]
     },
     "metadata": {
      "needs_background": "light"
     },
     "output_type": "display_data"
    }
   ],
   "source": [
    "out = 100*eval_loss(x_test,cnn0.predict(x_test),norm=norm2)\n",
    "\n",
    "fig,ax = plt.subplots(figsize=(8,5))\n",
    "ax.plot(Vs,np.max(out)*xi/xi.max(),\"x--\",label=\"entanglement entropy\") # normalized to loss output\n",
    "ax.plot(Vs,out,\"x--\",label=\"out [%]\")\n",
    "ax.plot(Vs_train,out[np.where(Vs<2)]/np.max(out),\"x\",label=\"train data\")\n",
    "ax.legend()"
   ]
  },
  {
   "cell_type": "markdown",
   "metadata": {},
   "source": [
    "**Expected Output:**\n",
    "\n",
    "<img src=\"Images/Phase_Boundaries.png\">"
   ]
  },
  {
   "cell_type": "code",
   "execution_count": null,
   "metadata": {},
   "outputs": [],
   "source": []
  }
 ],
 "metadata": {
  "kernelspec": {
   "display_name": "Python 3",
   "language": "python",
   "name": "python3"
  },
  "language_info": {
   "codemirror_mode": {
    "name": "ipython",
    "version": 3
   },
   "file_extension": ".py",
   "mimetype": "text/x-python",
   "name": "python",
   "nbconvert_exporter": "python",
   "pygments_lexer": "ipython3",
   "version": "3.7.3"
  },
  "toc": {
   "base_numbering": 1,
   "nav_menu": {},
   "number_sections": true,
   "sideBar": true,
   "skip_h1_title": false,
   "title_cell": "Table of Contents",
   "title_sidebar": "Contents",
   "toc_cell": false,
   "toc_position": {},
   "toc_section_display": true,
   "toc_window_display": false
  },
  "varInspector": {
   "cols": {
    "lenName": 16,
    "lenType": 16,
    "lenVar": 40
   },
   "kernels_config": {
    "python": {
     "delete_cmd_postfix": "",
     "delete_cmd_prefix": "del ",
     "library": "var_list.py",
     "varRefreshCmd": "print(var_dic_list())"
    },
    "r": {
     "delete_cmd_postfix": ") ",
     "delete_cmd_prefix": "rm(",
     "library": "var_list.r",
     "varRefreshCmd": "cat(var_dic_list()) "
    }
   },
   "types_to_exclude": [
    "module",
    "function",
    "builtin_function_or_method",
    "instance",
    "_Feature"
   ],
   "window_display": false
  }
 },
 "nbformat": 4,
 "nbformat_minor": 4
}
