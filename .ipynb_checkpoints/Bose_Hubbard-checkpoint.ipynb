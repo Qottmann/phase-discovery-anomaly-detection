{
 "cells": [
  {
   "cell_type": "markdown",
   "metadata": {},
   "source": [
    "prerequisites:  \n",
    "tenpy: https://tenpy.github.io/INSTALL.html  \n",
    "tensorflow: https://www.tensorflow.org/install  "
   ]
  },
  {
   "cell_type": "code",
   "execution_count": null,
   "metadata": {
    "ExecuteTime": {
     "end_time": "2020-01-23T21:09:14.363094Z",
     "start_time": "2020-01-23T21:09:10.012337Z"
    }
   },
   "outputs": [],
   "source": [
    "from AD_tools import *\n",
    "import numpy as np\n",
    "from matplotlib import pyplot as plt\n",
    "from matplotlib.ticker import MaxNLocator\n",
    "from matplotlib.colors import BoundaryNorm\n",
    "import tensorflow as tf\n",
    "from tensorflow.keras.models import Sequential,Model\n",
    "from tensorflow.keras.layers import Input,Dense,Conv2D,Conv1D,MaxPooling2D,MaxPooling1D,UpSampling2D,UpSampling1D,Flatten, Activation, BatchNormalization, GlobalAveragePooling2D,add"
   ]
  },
  {
   "cell_type": "code",
   "execution_count": null,
   "metadata": {
    "ExecuteTime": {
     "end_time": "2020-01-23T21:09:14.394227Z",
     "start_time": "2020-01-23T21:09:14.387107Z"
    }
   },
   "outputs": [],
   "source": [
    "tf.__version__"
   ]
  },
  {
   "cell_type": "code",
   "execution_count": null,
   "metadata": {
    "ExecuteTime": {
     "end_time": "2020-01-23T21:09:14.428593Z",
     "start_time": "2020-01-23T21:09:14.414414Z"
    }
   },
   "outputs": [],
   "source": [
    "import tenpy\n",
    "tenpy.__version__"
   ]
  },
  {
   "cell_type": "markdown",
   "metadata": {},
   "source": [
    "# Create data\n",
    "Preferably run on a cluster / external session"
   ]
  },
  {
   "cell_type": "code",
   "execution_count": null,
   "metadata": {
    "ExecuteTime": {
     "end_time": "2020-01-23T21:09:15.677648Z",
     "start_time": "2020-01-23T21:09:15.673730Z"
    }
   },
   "outputs": [],
   "source": [
    "Vs = np.linspace(0,5,100)"
   ]
  },
  {
   "cell_type": "code",
   "execution_count": null,
   "metadata": {
    "ExecuteTime": {
     "end_time": "2020-01-23T21:16:27.860993Z",
     "start_time": "2020-01-23T21:11:46.084687Z"
    }
   },
   "outputs": [],
   "source": [
    "datas = []\n",
    "for V in Vs:\n",
    "    datas.append(hubbard_dmrg(L=8,U=5.,V=V,chi_max=64,bc=\"infinite\"))\n",
    "datas = np.array(datas)"
   ]
  },
  {
   "cell_type": "code",
   "execution_count": null,
   "metadata": {
    "ExecuteTime": {
     "end_time": "2020-01-23T21:16:41.955207Z",
     "start_time": "2020-01-23T21:16:41.680307Z"
    }
   },
   "outputs": [],
   "source": [
    "ent = np.array([psi.entanglement_entropy() for psi in datas[:,0]])\n",
    "fig,ax = plt.subplots(figsize=(8,5))\n",
    "ax.plot(Vs,ent)"
   ]
  },
  {
   "cell_type": "code",
   "execution_count": null,
   "metadata": {
    "ExecuteTime": {
     "end_time": "2020-01-23T21:17:07.149431Z",
     "start_time": "2020-01-23T21:17:07.137651Z"
    }
   },
   "outputs": [],
   "source": [
    "x_test = np.array([psi.entanglement_spectrum(by_charge=False)[int(psi.L/2)-1] for psi in datas[:,0]])\n",
    "x_test = np.sqrt(np.exp(-1*x_test)) # Go from entanglement_spectrum to singular values l_v^2 = exp(-s_v)\n",
    "x_test = x_test.reshape(*x_test.shape,1) # Need extra \"color\" channel (though trivial) for tensorflow later\n",
    "x_test.shape"
   ]
  },
  {
   "cell_type": "markdown",
   "metadata": {},
   "source": [
    "# Define CNN"
   ]
  },
  {
   "cell_type": "code",
   "execution_count": null,
   "metadata": {
    "ExecuteTime": {
     "end_time": "2020-01-23T21:17:10.164563Z",
     "start_time": "2020-01-23T21:17:10.154149Z"
    }
   },
   "outputs": [],
   "source": [
    "def scc_cnn1D(loss,optimizer,activation0,activation,x_shape):\n",
    "    in_dim = x_shape\n",
    "    input_img = Input(shape=in_dim)\n",
    "   \n",
    "    x1 = Conv1D(64, 3, activation=activation0, padding='same')(input_img) # 100 100 64\n",
    "    x2 = MaxPooling1D(2, padding='same')(x1) # 50 50 64\n",
    "    x2 = Conv1D(64, 3, activation=activation0, padding='same')(x2) # 50 50 128\n",
    "    x3 = MaxPooling1D(2, padding='same')(x2) # 25 25 128\n",
    "    encoded = Conv1D(64, 3, activation=activation0, padding='same')(x3) # 25 25 128\n",
    "\n",
    "    y=UpSampling1D(2)(encoded) # 50 50 128\n",
    "    y=add([x2,y]) # 50 50 128\n",
    "    y=Conv1D(64, 3, activation=activation0, padding='same')(y) # 50 50 128\n",
    "    y=UpSampling1D(2)(y) # 100 100 128\n",
    "    y=add([x1,y]) # 100 100 128\n",
    "    decoded = Conv1D(x_shape[-1], 3, activation=activation, padding='same')(y) # 100 100 4\n",
    "\n",
    "    cnn = Model(input_img, decoded)\n",
    "\n",
    "    cnn.compile(loss=loss,optimizer=optimizer)#,metrics=['accuracy']) #adadelta\n",
    "    return cnn"
   ]
  },
  {
   "cell_type": "code",
   "execution_count": null,
   "metadata": {
    "ExecuteTime": {
     "end_time": "2020-01-23T21:17:13.101167Z",
     "start_time": "2020-01-23T21:17:12.679784Z"
    }
   },
   "outputs": [],
   "source": [
    "cnn = scc_cnn1D(\"mse\",\"adam\",\"relu\",\"relu\",(48,1,))\n",
    "cnn.summary()"
   ]
  },
  {
   "cell_type": "markdown",
   "metadata": {},
   "source": [
    "# Training\n",
    "pick data points from test set for training"
   ]
  },
  {
   "cell_type": "code",
   "execution_count": null,
   "metadata": {
    "ExecuteTime": {
     "end_time": "2020-01-23T21:17:17.228217Z",
     "start_time": "2020-01-23T21:17:17.224375Z"
    }
   },
   "outputs": [],
   "source": [
    "Vs_train = Vs[np.where(Vs<2)]"
   ]
  },
  {
   "cell_type": "code",
   "execution_count": null,
   "metadata": {
    "ExecuteTime": {
     "end_time": "2020-01-23T21:17:17.987837Z",
     "start_time": "2020-01-23T21:17:17.972312Z"
    }
   },
   "outputs": [],
   "source": [
    "x_train = x_test[np.where(Vs<2)]\n",
    "x_train.shape"
   ]
  },
  {
   "cell_type": "code",
   "execution_count": null,
   "metadata": {
    "ExecuteTime": {
     "end_time": "2020-01-23T21:17:32.798654Z",
     "start_time": "2020-01-23T21:17:32.794419Z"
    }
   },
   "outputs": [],
   "source": [
    "def train_loss2(y_true,y_pred):\n",
    "    return tf.keras.backend.sqrt(tf.keras.backend.sum((y_true - y_pred)**2))"
   ]
  },
  {
   "cell_type": "code",
   "execution_count": null,
   "metadata": {
    "ExecuteTime": {
     "end_time": "2020-01-23T21:17:38.783156Z",
     "start_time": "2020-01-23T21:17:38.766985Z"
    }
   },
   "outputs": [],
   "source": [
    "cnn0 = training(x_train, scc_cnn1D, name = \"\", provide_cnn = False,\n",
    "             load_prev = False, num_epochs = 40,  verbose_val = 1, batch_size = 24, shuffle = True, early = False,\n",
    "             loss = train_loss2, activation0 = 'relu', activation = 'tanh', optimizer = \"adam\")"
   ]
  },
  {
   "cell_type": "markdown",
   "metadata": {},
   "source": [
    "**Expected Output:**\n",
    "\n",
    "The Output should look similar to this\n",
    "\n",
    "<img src=\"Images/Learning_curve.png\">"
   ]
  },
  {
   "cell_type": "code",
   "execution_count": null,
   "metadata": {},
   "outputs": [],
   "source": [
    "xi = np.array([psi.correlation_length() for psi in datas[:,0]])"
   ]
  },
  {
   "cell_type": "code",
   "execution_count": null,
   "metadata": {},
   "outputs": [],
   "source": [
    "out = 100*eval_loss(x_test,cnn0.predict(x_test),norm=norm2)\n",
    "\n",
    "fig,ax = plt.subplots(figsize=(8,5))\n",
    "ax.plot(Vs,np.max(out)*xi/xi.max(),\"x--\",label=\"entanglement entropy\") # normalized to loss output\n",
    "ax.plot(Vs,out,\"x--\",label=\"out [%]\")\n",
    "ax.plot(Vs_train,out[np.where(Vs<2)]/np.max(out),\"x\",label=\"train data\")\n",
    "ax.legend()"
   ]
  },
  {
   "cell_type": "markdown",
   "metadata": {},
   "source": [
    "**Expected Output:**\n",
    "\n",
    "<img src=\"Images/Phase_Boundaries.png\">"
   ]
  },
  {
   "cell_type": "code",
   "execution_count": null,
   "metadata": {},
   "outputs": [],
   "source": []
  }
 ],
 "metadata": {
  "kernelspec": {
   "display_name": "Python 3",
   "language": "python",
   "name": "python3"
  },
  "language_info": {
   "codemirror_mode": {
    "name": "ipython",
    "version": 3
   },
   "file_extension": ".py",
   "mimetype": "text/x-python",
   "name": "python",
   "nbconvert_exporter": "python",
   "pygments_lexer": "ipython3",
   "version": "3.7.3"
  },
  "toc": {
   "base_numbering": 1,
   "nav_menu": {},
   "number_sections": true,
   "sideBar": true,
   "skip_h1_title": false,
   "title_cell": "Table of Contents",
   "title_sidebar": "Contents",
   "toc_cell": false,
   "toc_position": {},
   "toc_section_display": true,
   "toc_window_display": false
  },
  "varInspector": {
   "cols": {
    "lenName": 16,
    "lenType": 16,
    "lenVar": 40
   },
   "kernels_config": {
    "python": {
     "delete_cmd_postfix": "",
     "delete_cmd_prefix": "del ",
     "library": "var_list.py",
     "varRefreshCmd": "print(var_dic_list())"
    },
    "r": {
     "delete_cmd_postfix": ") ",
     "delete_cmd_prefix": "rm(",
     "library": "var_list.r",
     "varRefreshCmd": "cat(var_dic_list()) "
    }
   },
   "types_to_exclude": [
    "module",
    "function",
    "builtin_function_or_method",
    "instance",
    "_Feature"
   ],
   "window_display": false
  }
 },
 "nbformat": 4,
 "nbformat_minor": 4
}
