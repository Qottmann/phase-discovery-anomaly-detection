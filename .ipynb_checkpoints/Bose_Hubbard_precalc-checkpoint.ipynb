{
 "cells": [
  {
   "cell_type": "markdown",
   "metadata": {},
   "source": [
    "prerequisites:  \n",
    "tenpy: https://tenpy.github.io/INSTALL.html  \n",
    "tensorflow: https://www.tensorflow.org/install  "
   ]
  },
  {
   "cell_type": "code",
   "execution_count": 1,
   "metadata": {
    "ExecuteTime": {
     "end_time": "2020-01-23T21:08:39.332372Z",
     "start_time": "2020-01-23T21:08:34.367233Z"
    }
   },
   "outputs": [],
   "source": [
    "from AD_tools import *\n",
    "import numpy as np\n",
    "from matplotlib import pyplot as plt\n",
    "from matplotlib.ticker import MaxNLocator\n",
    "from matplotlib.colors import BoundaryNorm\n",
    "import tensorflow as tf\n",
    "from tensorflow.keras.models import Sequential,Model\n",
    "from tensorflow.keras.layers import Input,Dense,Conv1D,MaxPooling1D,UpSampling1D,Flatten,add"
   ]
  },
  {
   "cell_type": "code",
   "execution_count": 2,
   "metadata": {
    "ExecuteTime": {
     "end_time": "2020-01-23T21:08:39.397080Z",
     "start_time": "2020-01-23T21:08:39.390407Z"
    }
   },
   "outputs": [
    {
     "data": {
      "text/plain": [
       "'1.12.0'"
      ]
     },
     "execution_count": 2,
     "metadata": {},
     "output_type": "execute_result"
    }
   ],
   "source": [
    "tf.__version__"
   ]
  },
  {
   "cell_type": "code",
   "execution_count": 3,
   "metadata": {
    "ExecuteTime": {
     "end_time": "2020-01-23T21:08:40.459019Z",
     "start_time": "2020-01-23T21:08:40.453068Z"
    }
   },
   "outputs": [
    {
     "data": {
      "text/plain": [
       "'0.4.1'"
      ]
     },
     "execution_count": 3,
     "metadata": {},
     "output_type": "execute_result"
    }
   ],
   "source": [
    "import tenpy\n",
    "tenpy.__version__"
   ]
  },
  {
   "cell_type": "markdown",
   "metadata": {},
   "source": [
    "# Load data\n",
    "This was previously calcualted on a separate session for 130x100 states for the whole phase diagram"
   ]
  },
  {
   "cell_type": "code",
   "execution_count": 4,
   "metadata": {
    "ExecuteTime": {
     "end_time": "2020-01-23T21:08:43.601031Z",
     "start_time": "2020-01-23T21:08:43.597105Z"
    }
   },
   "outputs": [],
   "source": [
    "Us = np.concatenate([np.linspace(0.,2.,30),np.linspace(2.,8,100)])\n",
    "Vs = np.linspace(0,5,100)"
   ]
  },
  {
   "cell_type": "code",
   "execution_count": 5,
   "metadata": {},
   "outputs": [
    {
     "data": {
      "text/plain": [
       "(13000, 100, 20)"
      ]
     },
     "execution_count": 5,
     "metadata": {},
     "output_type": "execute_result"
    }
   ],
   "source": [
    "x_test2D = np.concatenate([np.load(\"test_data/x_test2D_{}.npz\".format(i),allow_pickle=True)[\"x_test2D\"] for i in range(10)])\n",
    "x_test2D.shape"
   ]
  },
  {
   "cell_type": "markdown",
   "metadata": {},
   "source": [
    "(picking 20 ES is arbitrary, also works with 1 or all of them)"
   ]
  },
  {
   "cell_type": "markdown",
   "metadata": {},
   "source": [
    "# Define CNN"
   ]
  },
  {
   "cell_type": "code",
   "execution_count": 6,
   "metadata": {},
   "outputs": [],
   "source": [
    "def scc_cnn1D(loss,optimizer,activation0,activation,x_shape):\n",
    "    in_dim = x_shape\n",
    "    input_img = Input(shape=in_dim)\n",
    "   \n",
    "    x1 = Conv1D(64, 3, activation=activation0, padding='same')(input_img) # 100 100 64\n",
    "    x2 = MaxPooling1D(2, padding='same')(x1) # 50 50 64\n",
    "    x2 = Conv1D(64, 3, activation=activation0, padding='same')(x2) # 50 50 128\n",
    "    x3 = MaxPooling1D(2, padding='same')(x2) # 25 25 128\n",
    "    encoded = Conv1D(64, 3, activation=activation0, padding='same')(x3) # 25 25 128\n",
    "\n",
    "    y=UpSampling1D(2)(encoded) # 50 50 128\n",
    "    y=add([x2,y]) # 50 50 128\n",
    "    y=Conv1D(64, 3, activation=activation0, padding='same')(y) # 50 50 128\n",
    "    y=UpSampling1D(2)(y) # 100 100 128\n",
    "    y=add([x1,y]) # 100 100 128\n",
    "    decoded = Conv1D(x_shape[-1], 3, activation=activation, padding='same')(y) # 100 100 4\n",
    "\n",
    "    cnn = Model(input_img, decoded)\n",
    "\n",
    "    cnn.compile(loss=loss,optimizer=optimizer)#,metrics=['accuracy']) #adadelta\n",
    "    return cnn"
   ]
  },
  {
   "cell_type": "code",
   "execution_count": 7,
   "metadata": {},
   "outputs": [
    {
     "name": "stdout",
     "output_type": "stream",
     "text": [
      "__________________________________________________________________________________________________\n",
      "Layer (type)                    Output Shape         Param #     Connected to                     \n",
      "==================================================================================================\n",
      "input_1 (InputLayer)            (None, 64, 1)        0                                            \n",
      "__________________________________________________________________________________________________\n",
      "conv1d (Conv1D)                 (None, 64, 64)       256         input_1[0][0]                    \n",
      "__________________________________________________________________________________________________\n",
      "max_pooling1d (MaxPooling1D)    (None, 32, 64)       0           conv1d[0][0]                     \n",
      "__________________________________________________________________________________________________\n",
      "conv1d_1 (Conv1D)               (None, 32, 64)       12352       max_pooling1d[0][0]              \n",
      "__________________________________________________________________________________________________\n",
      "max_pooling1d_1 (MaxPooling1D)  (None, 16, 64)       0           conv1d_1[0][0]                   \n",
      "__________________________________________________________________________________________________\n",
      "conv1d_2 (Conv1D)               (None, 16, 64)       12352       max_pooling1d_1[0][0]            \n",
      "__________________________________________________________________________________________________\n",
      "up_sampling1d (UpSampling1D)    (None, 32, 64)       0           conv1d_2[0][0]                   \n",
      "__________________________________________________________________________________________________\n",
      "add (Add)                       (None, 32, 64)       0           conv1d_1[0][0]                   \n",
      "                                                                 up_sampling1d[0][0]              \n",
      "__________________________________________________________________________________________________\n",
      "conv1d_3 (Conv1D)               (None, 32, 64)       12352       add[0][0]                        \n",
      "__________________________________________________________________________________________________\n",
      "up_sampling1d_1 (UpSampling1D)  (None, 64, 64)       0           conv1d_3[0][0]                   \n",
      "__________________________________________________________________________________________________\n",
      "add_1 (Add)                     (None, 64, 64)       0           conv1d[0][0]                     \n",
      "                                                                 up_sampling1d_1[0][0]            \n",
      "__________________________________________________________________________________________________\n",
      "conv1d_4 (Conv1D)               (None, 64, 1)        193         add_1[0][0]                      \n",
      "==================================================================================================\n",
      "Total params: 37,505\n",
      "Trainable params: 37,505\n",
      "Non-trainable params: 0\n",
      "__________________________________________________________________________________________________\n"
     ]
    }
   ],
   "source": [
    "cnn = scc_cnn1D(\"mse\",\"adam\",\"relu\",\"relu\",(64,1,))\n",
    "cnn.summary()"
   ]
  },
  {
   "cell_type": "markdown",
   "metadata": {},
   "source": [
    "# Training\n",
    "Usually compute extra training set from test set, but since test set is big enough we can just use parts of the test set for training"
   ]
  },
  {
   "cell_type": "code",
   "execution_count": 8,
   "metadata": {},
   "outputs": [],
   "source": [
    "def pick_Us(Umin,Umax):\n",
    "    return np.arange(np.where(Us>Umin)[0][0]-1,np.where(Us<Umax)[0][-1]+1,1)    \n",
    "def pick_Vs(Vmin,Vmax):\n",
    "    return np.arange(np.where(Vs>Vmin)[0][0]-1,np.where(Vs<Vmax)[0][-1]+1,1)    "
   ]
  },
  {
   "cell_type": "code",
   "execution_count": 9,
   "metadata": {},
   "outputs": [
    {
     "data": {
      "text/plain": [
       "(494, 100, 20)"
      ]
     },
     "execution_count": 9,
     "metadata": {},
     "output_type": "execute_result"
    }
   ],
   "source": [
    "trains0 = [[(0,1.3),(0,1.3)]]\n",
    "x_train = []\n",
    "for train in trains0:\n",
    "    x_train.append(x_test2D.reshape(130,100,*x_test2D.shape[1:])[pick_Us(*train[1])][:,pick_Vs(*train[0])].reshape(-1,*x_test2D.shape[1:]))\n",
    "x_train = np.concatenate(x_train)\n",
    "x_train.shape"
   ]
  },
  {
   "cell_type": "code",
   "execution_count": 10,
   "metadata": {},
   "outputs": [],
   "source": [
    "def train_loss2(y_true,y_pred):\n",
    "    return tf.keras.backend.sqrt(tf.keras.backend.sum((y_true - y_pred)**2))"
   ]
  },
  {
   "cell_type": "code",
   "execution_count": 11,
   "metadata": {},
   "outputs": [
    {
     "name": "stdout",
     "output_type": "stream",
     "text": [
      "Train on 494 samples, validate on 494 samples\n",
      "Epoch 1/10\n",
      "494/494 [==============================] - 3s 5ms/step - loss: 4.8488 - val_loss: 1.4604\n",
      "Epoch 2/10\n",
      "494/494 [==============================] - 0s 695us/step - loss: 0.9614 - val_loss: 0.6107\n",
      "Epoch 3/10\n",
      "494/494 [==============================] - 0s 665us/step - loss: 0.4920 - val_loss: 0.3859\n",
      "Epoch 4/10\n",
      "494/494 [==============================] - 0s 697us/step - loss: 0.3330 - val_loss: 0.2837\n",
      "Epoch 5/10\n",
      "494/494 [==============================] - 0s 630us/step - loss: 0.2418 - val_loss: 0.2068\n",
      "Epoch 6/10\n",
      "494/494 [==============================] - 0s 689us/step - loss: 0.2209 - val_loss: 0.1862\n",
      "Epoch 7/10\n",
      "494/494 [==============================] - 0s 652us/step - loss: 0.1658 - val_loss: 0.1381\n",
      "Epoch 8/10\n",
      "494/494 [==============================] - 0s 637us/step - loss: 0.1418 - val_loss: 0.1356\n",
      "Epoch 9/10\n",
      "494/494 [==============================] - 0s 650us/step - loss: 0.1377 - val_loss: 0.1034\n",
      "Epoch 10/10\n",
      "494/494 [==============================] - 0s 629us/step - loss: 0.1261 - val_loss: 0.0974\n"
     ]
    },
    {
     "data": {
      "image/png": "[encoded data removed]",
      "text/plain": [
       "<Figure size 432x288 with 1 Axes>"
      ]
     },
     "metadata": {
      "needs_background": "light"
     },
     "output_type": "display_data"
    }
   ],
   "source": [
    "cnn0 = training(x_train, scc_cnn1D, name = \"\", provide_cnn = False,\n",
    "             load_prev = False, num_epochs = 10,  verbose_val = 1, batch_size = 24, shuffle = True, early = False,\n",
    "             loss = train_loss2, activation0 = 'relu', activation = 'tanh', optimizer = \"adam\")"
   ]
  },
  {
   "cell_type": "code",
   "execution_count": 12,
   "metadata": {},
   "outputs": [],
   "source": [
    "out = 100*eval_loss(x_test2D,cnn0.predict(x_test2D),norm=norm2)/eval_loss(x_test2D,0*x_test2D,norm=norm2)\n",
    "out = out.reshape(130,100)"
   ]
  },
  {
   "cell_type": "code",
   "execution_count": 13,
   "metadata": {},
   "outputs": [],
   "source": [
    "x,y = np.meshgrid(Vs,Us)"
   ]
  },
  {
   "cell_type": "code",
   "execution_count": 14,
   "metadata": {},
   "outputs": [
    {
     "data": {
      "image/png": "[encoded data removed]",
      "text/plain": [
       "<Figure size 576x360 with 2 Axes>"
      ]
     },
     "metadata": {
      "needs_background": "light"
     },
     "output_type": "display_data"
    }
   ],
   "source": [
    "import matplotlib.patches as patches\n",
    "cmap = plt.get_cmap(\"plasma\") #'viridis'\n",
    "fig,axs = plt.subplots(figsize=(8,5),squeeze=False)\n",
    "\n",
    "nbins=100\n",
    "\n",
    "ax = axs[0,0]\n",
    "levels = MaxNLocator(nbins=nbins).tick_values(out.min(),out.max()) #out.max()\n",
    "norm = BoundaryNorm(levels, ncolors=cmap.N, clip=True)\n",
    "im = ax.pcolormesh(x, y, out, cmap=cmap, norm=norm)\n",
    "cbar = fig.colorbar(im, ax=ax)\n",
    "cbar.ax.tick_params(labelsize=20)\n",
    "ax.set_title(\"Loss [%]\",fontsize=20)\n",
    "ax.set_xlabel(\"V\",fontsize=24)\n",
    "ax.set_ylabel(\"U\",fontsize=24)\n",
    "ax.tick_params(labelsize=20)\n",
    "#ax.set_ylim(*ylim)"
   ]
  },
  {
   "cell_type": "code",
   "execution_count": 15,
   "metadata": {},
   "outputs": [
    {
     "data": {
      "text/plain": [
       "Text(0.5, 1.0, 'U = 5.030')"
      ]
     },
     "execution_count": 15,
     "metadata": {},
     "output_type": "execute_result"
    },
    {
     "data": {
      "image/png": "[encoded data removed]",
      "text/plain": [
       "<Figure size 1296x360 with 3 Axes>"
      ]
     },
     "metadata": {
      "needs_background": "light"
     },
     "output_type": "display_data"
    }
   ],
   "source": [
    "fig,axs = plt.subplots(ncols=3,figsize=(18,5))\n",
    "ax = axs[0]\n",
    "col=6\n",
    "ax.plot(y[:,col],out[:,col])\n",
    "ax.set_title(\"V = {:.3f}\".format(x[0,col]))\n",
    "\n",
    "ax = axs[1]\n",
    "row = 6\n",
    "ax.plot(x[row],out[row])\n",
    "ax.set_title(\"U = {:.3f}\".format(y[row,0]))\n",
    "\n",
    "ax = axs[2]\n",
    "row = 80\n",
    "ax.plot(x[row],out[row])\n",
    "ax.set_title(\"U = {:.3f}\".format(y[row,0]))"
   ]
  },
  {
   "cell_type": "code",
   "execution_count": null,
   "metadata": {},
   "outputs": [],
   "source": []
  }
 ],
 "metadata": {
  "kernelspec": {
   "display_name": "Python 3",
   "language": "python",
   "name": "python3"
  },
  "language_info": {
   "codemirror_mode": {
    "name": "ipython",
    "version": 3
   },
   "file_extension": ".py",
   "mimetype": "text/x-python",
   "name": "python",
   "nbconvert_exporter": "python",
   "pygments_lexer": "ipython3",
   "version": "3.6.9"
  },
  "toc": {
   "base_numbering": 1,
   "nav_menu": {},
   "number_sections": true,
   "sideBar": true,
   "skip_h1_title": false,
   "title_cell": "Table of Contents",
   "title_sidebar": "Contents",
   "toc_cell": false,
   "toc_position": {},
   "toc_section_display": true,
   "toc_window_display": false
  },
  "varInspector": {
   "cols": {
    "lenName": 16,
    "lenType": 16,
    "lenVar": 40
   },
   "kernels_config": {
    "python": {
     "delete_cmd_postfix": "",
     "delete_cmd_prefix": "del ",
     "library": "var_list.py",
     "varRefreshCmd": "print(var_dic_list())"
    },
    "r": {
     "delete_cmd_postfix": ") ",
     "delete_cmd_prefix": "rm(",
     "library": "var_list.r",
     "varRefreshCmd": "cat(var_dic_list()) "
    }
   },
   "types_to_exclude": [
    "module",
    "function",
    "builtin_function_or_method",
    "instance",
    "_Feature"
   ],
   "window_display": false
  }
 },
 "nbformat": 4,
 "nbformat_minor": 4
}
