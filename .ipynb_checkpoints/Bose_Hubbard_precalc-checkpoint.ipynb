{
 "cells": [
  {
   "cell_type": "markdown",
   "metadata": {},
   "source": [
    "prerequisites:  \n",
    "tenpy: https://tenpy.github.io/INSTALL.html  \n",
    "tensorflow: https://www.tensorflow.org/install  "
   ]
  },
  {
   "cell_type": "code",
   "execution_count": null,
   "metadata": {
    "ExecuteTime": {
     "end_time": "2020-01-23T21:08:39.332372Z",
     "start_time": "2020-01-23T21:08:34.367233Z"
    }
   },
   "outputs": [],
   "source": [
    "from AD_tools import *\n",
    "import numpy as np\n",
    "from matplotlib import pyplot as plt\n",
    "from matplotlib.ticker import MaxNLocator\n",
    "from matplotlib.colors import BoundaryNorm\n",
    "import tensorflow as tf\n",
    "from tensorflow.keras.models import Sequential,Model\n",
    "from tensorflow.keras.layers import Input,Dense,Conv2D,Conv1D,MaxPooling2D,MaxPooling1D,UpSampling2D,UpSampling1D,Flatten, Activation, BatchNormalization, GlobalAveragePooling2D,add"
   ]
  },
  {
   "cell_type": "code",
   "execution_count": null,
   "metadata": {
    "ExecuteTime": {
     "end_time": "2020-01-23T21:08:39.397080Z",
     "start_time": "2020-01-23T21:08:39.390407Z"
    }
   },
   "outputs": [],
   "source": [
    "tf.__version__"
   ]
  },
  {
   "cell_type": "code",
   "execution_count": null,
   "metadata": {
    "ExecuteTime": {
     "end_time": "2020-01-23T21:08:40.459019Z",
     "start_time": "2020-01-23T21:08:40.453068Z"
    }
   },
   "outputs": [],
   "source": [
    "import tenpy\n",
    "tenpy.__version__"
   ]
  },
  {
   "cell_type": "markdown",
   "metadata": {},
   "source": [
    "# Load data\n",
    "This was previously calcualted on a separate session for 130x100 states for the whole phase diagram"
   ]
  },
  {
   "cell_type": "code",
   "execution_count": null,
   "metadata": {
    "ExecuteTime": {
     "end_time": "2020-01-23T21:08:43.601031Z",
     "start_time": "2020-01-23T21:08:43.597105Z"
    }
   },
   "outputs": [],
   "source": [
    "Us = np.concatenate([np.linspace(0.,2.,30),np.linspace(2.,8,100)])\n",
    "Vs = np.linspace(0,5,100)"
   ]
  },
  {
   "cell_type": "code",
   "execution_count": null,
   "metadata": {
    "ExecuteTime": {
     "end_time": "2020-01-23T21:08:48.087391Z",
     "start_time": "2020-01-23T21:08:47.730455Z"
    }
   },
   "outputs": [],
   "source": [
    "dat = np.load(\"../test_data/329/329_pbc_test-2D_L-64_D-100_spectra.npz\")\n",
    "x_test2D = np.concatenate([np.exp(-1*dat[str(key)][:,12]) for key in [5,6,0,1,2,3,4]])\n",
    "x_test2D = x_test2D.reshape(*x_test2D.shape,1)\n",
    "x_test2D.shape"
   ]
  },
  {
   "cell_type": "markdown",
   "metadata": {},
   "source": [
    "# Define CNN"
   ]
  },
  {
   "cell_type": "code",
   "execution_count": null,
   "metadata": {},
   "outputs": [],
   "source": [
    "def scc_cnn1D(loss,optimizer,activation0,activation,x_shape):\n",
    "    in_dim = x_shape\n",
    "    input_img = Input(shape=in_dim)\n",
    "   \n",
    "    x1 = Conv1D(64, 3, activation=activation0, padding='same')(input_img) # 100 100 64\n",
    "    x2 = MaxPooling1D(2, padding='same')(x1) # 50 50 64\n",
    "    x2 = Conv1D(64, 3, activation=activation0, padding='same')(x2) # 50 50 128\n",
    "    x3 = MaxPooling1D(2, padding='same')(x2) # 25 25 128\n",
    "    encoded = Conv1D(64, 3, activation=activation0, padding='same')(x3) # 25 25 128\n",
    "\n",
    "    y=UpSampling1D(2)(encoded) # 50 50 128\n",
    "    y=add([x2,y]) # 50 50 128\n",
    "    y=Conv1D(64, 3, activation=activation0, padding='same')(y) # 50 50 128\n",
    "    y=UpSampling1D(2)(y) # 100 100 128\n",
    "    y=add([x1,y]) # 100 100 128\n",
    "    decoded = Conv1D(x_shape[-1], 3, activation=activation, padding='same')(y) # 100 100 4\n",
    "\n",
    "    cnn = Model(input_img, decoded)\n",
    "\n",
    "    cnn.compile(loss=loss,optimizer=optimizer)#,metrics=['accuracy']) #adadelta\n",
    "    return cnn"
   ]
  },
  {
   "cell_type": "code",
   "execution_count": null,
   "metadata": {},
   "outputs": [],
   "source": [
    "cnn = scc_cnn1D(\"mse\",\"adam\",\"relu\",\"relu\",(64,1,))\n",
    "cnn.summary()"
   ]
  },
  {
   "cell_type": "markdown",
   "metadata": {},
   "source": [
    "# Training\n",
    "Usually compute extra training set from test set, but since test set is big enough we can just use parts of the test set for training"
   ]
  },
  {
   "cell_type": "code",
   "execution_count": null,
   "metadata": {},
   "outputs": [],
   "source": [
    "def pick_Us(Umin,Umax):\n",
    "    return np.arange(np.where(Us>Umin)[0][0]-1,np.where(Us<Umax)[0][-1]+1,1)    \n",
    "def pick_Vs(Vmin,Vmax):\n",
    "    return np.arange(np.where(Vs>Vmin)[0][0]-1,np.where(Vs<Vmax)[0][-1]+1,1)    "
   ]
  },
  {
   "cell_type": "code",
   "execution_count": null,
   "metadata": {},
   "outputs": [],
   "source": [
    "trains0 = [[(0,1.3),(0,1.3)]]\n",
    "x_train = []\n",
    "for train in trains0:\n",
    "    x_train.append(x_test2D.reshape(130,100,*x_test2D.shape[1:])[pick_Us(*train[1])][:,pick_Vs(*train[0])].reshape(-1,*x_test2D.shape[1:]))\n",
    "x_train = np.concatenate(x_train)\n",
    "x_train.shape"
   ]
  },
  {
   "cell_type": "code",
   "execution_count": null,
   "metadata": {},
   "outputs": [],
   "source": [
    "def train_loss2(y_true,y_pred):\n",
    "    return tf.keras.backend.sqrt(tf.keras.backend.sum((y_true - y_pred)**2))"
   ]
  },
  {
   "cell_type": "code",
   "execution_count": null,
   "metadata": {},
   "outputs": [],
   "source": [
    "cnn0 = training(x_train, scc_cnn1D, name = \"\", provide_cnn = False,\n",
    "             load_prev = False, num_epochs = 10,  verbose_val = 1, batch_size = 24, shuffle = True, early = False,\n",
    "             loss = train_loss2, activation0 = 'relu', activation = 'tanh', optimizer = \"adam\")"
   ]
  },
  {
   "cell_type": "markdown",
   "metadata": {
    "ExecuteTime": {
     "end_time": "2020-01-23T21:18:34.554587Z",
     "start_time": "2020-01-23T21:18:34.540024Z"
    }
   },
   "source": [
    "**Expected Output:**\n",
    "\n",
    "The expected output should look like this\n",
    "\n",
    "<img src=\"Images/Learning_curve2.png\">"
   ]
  },
  {
   "cell_type": "code",
   "execution_count": null,
   "metadata": {},
   "outputs": [],
   "source": [
    "out = 100*eval_loss(x_test2D,cnn0.predict(x_test2D),norm=norm2) #in order to get percent\n",
    "out = out.reshape(130,100)"
   ]
  },
  {
   "cell_type": "code",
   "execution_count": null,
   "metadata": {},
   "outputs": [],
   "source": [
    "x,y = np.meshgrid(Vs,Us)"
   ]
  },
  {
   "cell_type": "code",
   "execution_count": null,
   "metadata": {},
   "outputs": [],
   "source": [
    "import matplotlib.patches as patches\n",
    "cmap = plt.get_cmap(\"plasma\") #'viridis'\n",
    "fig,axs = plt.subplots(figsize=(8,5),squeeze=False)\n",
    "\n",
    "nbins=100\n",
    "\n",
    "ax = axs[0,0]\n",
    "levels = MaxNLocator(nbins=nbins).tick_values(out.min(),out.max()) #out.max()\n",
    "norm = BoundaryNorm(levels, ncolors=cmap.N, clip=True)\n",
    "im = ax.pcolormesh(x, y, out, cmap=cmap, norm=norm)\n",
    "cbar = fig.colorbar(im, ax=ax)\n",
    "cbar.ax.tick_params(labelsize=20)\n",
    "ax.set_title(\"Loss [%]\",fontsize=20)\n",
    "ax.set_xlabel(\"V\",fontsize=24)\n",
    "ax.set_ylabel(\"U\",fontsize=24)\n",
    "ax.tick_params(labelsize=20)\n",
    "#ax.set_ylim(*ylim)"
   ]
  },
  {
   "cell_type": "markdown",
   "metadata": {},
   "source": [
    "**Expected Output:**\n",
    "\n",
    "This should return the whole phase diagram\n",
    "\n",
    "<img src=\"Images/Phase_Diagram.png\">"
   ]
  },
  {
   "cell_type": "code",
   "execution_count": null,
   "metadata": {},
   "outputs": [],
   "source": [
    "fig,axs = plt.subplots(ncols=3,figsize=(18,5))\n",
    "ax = axs[0]\n",
    "col=6\n",
    "ax.plot(y[:,col],out[:,col])\n",
    "ax.set_title(\"V = {:.3f}\".format(x[0,col]))\n",
    "\n",
    "ax = axs[1]\n",
    "row = 6\n",
    "ax.plot(x[row],out[row])\n",
    "ax.set_title(\"U = {:.3f}\".format(y[row,0]))\n",
    "\n",
    "ax = axs[2]\n",
    "row = 80\n",
    "ax.plot(x[row],out[row])\n",
    "ax.set_title(\"U = {:.3f}\".format(y[row,0]))"
   ]
  },
  {
   "cell_type": "markdown",
   "metadata": {},
   "source": [
    "**Expected Output:**\n",
    "\n",
    "This returns you different cross sections of the Phase Diagram:\n",
    "\n",
    "<img src=\"Images/Phase_Boundaries1.png\">"
   ]
  },
  {
   "cell_type": "code",
   "execution_count": null,
   "metadata": {},
   "outputs": [],
   "source": []
  }
 ],
 "metadata": {
  "kernelspec": {
   "display_name": "Python 3",
   "language": "python",
   "name": "python3"
  },
  "language_info": {
   "codemirror_mode": {
    "name": "ipython",
    "version": 3
   },
   "file_extension": ".py",
   "mimetype": "text/x-python",
   "name": "python",
   "nbconvert_exporter": "python",
   "pygments_lexer": "ipython3",
   "version": "3.7.3"
  },
  "toc": {
   "base_numbering": 1,
   "nav_menu": {},
   "number_sections": true,
   "sideBar": true,
   "skip_h1_title": false,
   "title_cell": "Table of Contents",
   "title_sidebar": "Contents",
   "toc_cell": false,
   "toc_position": {},
   "toc_section_display": true,
   "toc_window_display": false
  },
  "varInspector": {
   "cols": {
    "lenName": 16,
    "lenType": 16,
    "lenVar": 40
   },
   "kernels_config": {
    "python": {
     "delete_cmd_postfix": "",
     "delete_cmd_prefix": "del ",
     "library": "var_list.py",
     "varRefreshCmd": "print(var_dic_list())"
    },
    "r": {
     "delete_cmd_postfix": ") ",
     "delete_cmd_prefix": "rm(",
     "library": "var_list.r",
     "varRefreshCmd": "cat(var_dic_list()) "
    }
   },
   "types_to_exclude": [
    "module",
    "function",
    "builtin_function_or_method",
    "instance",
    "_Feature"
   ],
   "window_display": false
  }
 },
 "nbformat": 4,
 "nbformat_minor": 4
}
